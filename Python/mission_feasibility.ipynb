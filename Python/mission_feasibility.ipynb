{
 "cells": [
  {
   "cell_type": "markdown",
   "metadata": {},
   "source": [
    "Notes: L2 to comet in trade study, not JWST due to time intercepts, might only be 10% off"
   ]
  },
  {
   "cell_type": "markdown",
   "metadata": {},
   "source": [
    "## Target Comet Range Study"
   ]
  },
  {
   "cell_type": "code",
   "execution_count": null,
   "metadata": {},
   "outputs": [],
   "source": [
    "import get_comets\n",
    "import pandas as pd\n",
    "\n",
    "def custom_filter_comets(df: pd.DataFrame) -> pd.DataFrame:\n",
    "    # Filter to 0.9-1.2 AU\n",
    "    df = df[df[\"q\"] > 0.9]\n",
    "    df = df[df[\"q\"] < 1.2]\n",
    "\n",
    "    # Filter to >0.95 ecc\n",
    "    df = df[df[\"e\"] > 0.95]\n",
    "\n",
    "    # Filter to comets with perihelion after 1970\n",
    "    # df = df[df[\"tp\"] > 2458850]  # 2020  # 14\n",
    "    # df = df[df[\"tp\"] < 2460677]  # 2025\n",
    "    # df = df[df[\"tp\"] > 2457024]  # 2015  # 5\n",
    "    # df = df[df[\"tp\"] < 2458850]  # 2020\n",
    "    # df = df[df[\"tp\"] > 2455198]  # 2010  # 8\n",
    "    # df = df[df[\"tp\"] < 2457024]  # 2015\n",
    "    df = df[df[\"tp\"] > 2453372]  # 2005  # 9\n",
    "    df = df[df[\"tp\"] < 2455198]  # 2010\n",
    "\n",
    "    return df"
   ]
  },
  {
   "cell_type": "code",
   "execution_count": null,
   "metadata": {},
   "outputs": [],
   "source": [
    "df = get_comets()\n",
    "df = custom_filter_comets(df)\n",
    "\n",
    "print(f\"Got {len(df)} comets\")"
   ]
  }
 ],
 "metadata": {
  "kernelspec": {
   "display_name": "venv",
   "language": "python",
   "name": "python3"
  },
  "language_info": {
   "name": "python",
   "version": "3.10.11"
  }
 },
 "nbformat": 4,
 "nbformat_minor": 2
}
