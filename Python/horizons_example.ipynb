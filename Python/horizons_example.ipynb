{
 "cells": [
  {
   "cell_type": "markdown",
   "metadata": {},
   "source": [
    "References:\n",
    "\n",
    "* https://astroquery.readthedocs.io/en/stable/jplhorizons/jplhorizons.html\n",
    "* https://docs.poliastro.space/en/stable/examples/Visualizing%20the%20SpaceX%20Tesla%20Roadster%20trip%20to%20Mars.html\n",
    "* https://docs.poliastro.space/en/stable/examples/Analyzing%20NEOs.html\n",
    "* https://docs.poliastro.space/en/stable/examples/Analyzing%20the%20Parker%20Solar%20Probe%20flybys.html"
   ]
  },
  {
   "cell_type": "code",
   "execution_count": null,
   "metadata": {},
   "outputs": [],
   "source": [
    "import matplotlib.pyplot as plt\n",
    "import numpy as np\n",
    "import time\n",
    "\n",
    "import astropy.units as u\n",
    "from astropy.coordinates import CartesianRepresentation\n",
    "from astropy.time import Time\n",
    "from astropy.table import Table\n",
    "from astroquery.jplhorizons import Horizons\n",
    "\n",
    "from poliastro.bodies import Sun, Earth\n",
    "from poliastro.frames import Planes\n",
    "from poliastro.iod import lambert\n",
    "from poliastro.plotting import OrbitPlotter3D\n",
    "from poliastro.ephem import Ephem\n",
    "from poliastro.twobody import Orbit"
   ]
  },
  {
   "cell_type": "markdown",
   "metadata": {},
   "source": [
    "# Code Configuration"
   ]
  },
  {
   "cell_type": "code",
   "execution_count": null,
   "metadata": {},
   "outputs": [],
   "source": [
    "# name = \"C/2013 A1\"\n",
    "# epoch = Time(\"2014-10-25\")  # last perihelion\n",
    "# name = \"C/2024 E1\"\n",
    "# epoch = Time(\"2026-01-21\")  # perihelion\n",
    "name = \"Loverboy\"\n",
    "epoch = Time(\"2033-06-15T12:00:00\")  # perihelion\n",
    "\n",
    "custom_comet = True  # toggle code for custom comet\n",
    "custom_orbital_elements = {\n",
    "    \"a\": 10474.06 * u.au,         # Semi-major axis\n",
    "    \"ecc\": 0.9998956528860143 * u.one,     # Eccentricity\n",
    "    \"inc\": 100.88290133343503 * u.deg,      # Inclination\n",
    "    \"raan\": 232.4318366430011 * u.deg,    # Right ascension of ascending node\n",
    "    \"argp\": 335.5337773673682 * u.deg,    # Argument of periapsis\n",
    "    \"nu\": 0 * u.deg,        # True anomaly\n",
    "}"
   ]
  },
  {
   "cell_type": "code",
   "execution_count": null,
   "metadata": {},
   "outputs": [],
   "source": [
    "# Generate state vectors of target body\n",
    "if not custom_comet:  # query target body from JPL Horizons database\n",
    "    start = epoch - 200 * u.day\n",
    "    stop = epoch + 200 * u.day\n",
    "\n",
    "    obj = Horizons(\n",
    "        id=name, location=\"@10\", epochs={\"start\": start.iso, \"stop\": stop.iso, \"step\": \"5d\"}\n",
    "    )\n",
    "\n",
    "    vec = obj.vectors(refplane=\"ecliptic\")\n",
    "\n",
    "else:  # generate custom comet\n",
    "    orbit = Orbit.from_classical(Sun, **custom_orbital_elements, epoch=epoch)  # create orbit using Poliastro\n",
    "\n",
    "    times = epoch + np.arange(-200, 200, 5) * u.day  # same 5 day time step as above\n",
    "    states = [orbit.propagate((t - epoch).to(u.s)) for t in times]\n",
    "\n",
    "    # Convert state vectors into arrays with units\n",
    "    r_vectors = np.array([s.r.to_value(u.km) for s in states]) * u.km\n",
    "    v_vectors = np.array([s.v.to_value(u.km / u.s) for s in states]) * u.km / u.s\n",
    "\n",
    "    # Construct an Astropy Table with units\n",
    "    vec = Table(\n",
    "        {\n",
    "            \"datetime_jd\": times.jd * u.day,\n",
    "            \"x\": r_vectors[:, 0],\n",
    "            \"y\": r_vectors[:, 1],\n",
    "            \"z\": r_vectors[:, 2],\n",
    "            \"vx\": v_vectors[:, 0],\n",
    "            \"vy\": v_vectors[:, 1],\n",
    "            \"vz\": v_vectors[:, 2],\n",
    "        }\n",
    "    )"
   ]
  },
  {
   "cell_type": "code",
   "execution_count": null,
   "metadata": {},
   "outputs": [],
   "source": [
    "# 3D interactive orbit viewer\n",
    "frame = OrbitPlotter3D(plane=Planes.EARTH_ECLIPTIC)\n",
    "frame.set_attractor(Sun)\n",
    "\n",
    "orbit = CartesianRepresentation(\n",
    "    vec[\"x\"],\n",
    "    vec[\"y\"],\n",
    "    vec[\"z\"],\n",
    ")\n",
    "frame.plot_trajectory(orbit, label=name)"
   ]
  },
  {
   "cell_type": "markdown",
   "metadata": {},
   "source": [
    "# Lambert"
   ]
  },
  {
   "cell_type": "code",
   "execution_count": null,
   "metadata": {},
   "outputs": [],
   "source": [
    "tofs = np.linspace(100, 1500, 200)\n",
    "epochs = Time(vec[\"datetime_jd\"], format=\"jd\", scale=\"tdb\")\n",
    "\n",
    "results = []\n",
    "\n",
    "start = time.time()\n",
    "for i, t_comet in enumerate(epochs):\n",
    "    r_comet = u.Quantity(list(vec[i][\"x\", \"y\", \"z\"]), unit=vec[\"x\"].unit)\n",
    "    v_comet = u.Quantity(list(vec[i][\"vx\", \"vy\", \"vz\"]), unit=vec[\"vx\"].unit)\n",
    "\n",
    "    res = []\n",
    "\n",
    "    for tof in tofs:\n",
    "        tof = tof * u.day\n",
    "        t_earth = t_comet - tof\n",
    "        earth_pos = Ephem.from_body(Earth, t_earth, attractor=Sun, plane=Planes.EARTH_ECLIPTIC)\n",
    "        r_earth, v_earth = earth_pos.rv(t_earth)\n",
    "\n",
    "        v_i_1, v_f_1 = lambert(Sun.k, r_earth, r_comet, tof, lowpath=True)\n",
    "        v_i_2, v_f_2 = lambert(Sun.k, r_earth, r_comet, tof, lowpath=False)\n",
    "\n",
    "        v_inf_e_1 = np.linalg.norm(v_i_1 - v_earth)\n",
    "        v_inf_c_1 = np.linalg.norm(v_f_1 - v_comet)\n",
    "\n",
    "        v_inf_e_2 = np.linalg.norm(v_i_2 - v_earth)\n",
    "        v_inf_c_2 = np.linalg.norm(v_f_2 - v_comet)\n",
    "\n",
    "        if v_inf_e_1 > v_inf_e_2:\n",
    "            v_inf_arr = v_inf_c_2\n",
    "            c3 = np.linalg.norm(v_inf_e_2)**2\n",
    "        else:\n",
    "            v_inf_arr = v_inf_c_1\n",
    "            c3 = np.linalg.norm(v_inf_e_1)**2\n",
    "\n",
    "        res.append([c3.to_value(u.km**2/u.s**2), v_inf_arr.to_value(u.km/u.s)])\n",
    "\n",
    "    results.append(res)\n",
    "stop = time.time()\n",
    "\n",
    "results = np.array(results)\n",
    "\n",
    "print(f\"{(len(epochs) * len(tofs))/(stop - start)} iterations/sec\")"
   ]
  },
  {
   "cell_type": "code",
   "execution_count": null,
   "metadata": {},
   "outputs": [],
   "source": [
    "c3 = results[:, :, 0]\n",
    "v_inf = results[:, :, 1]\n",
    "\n",
    "c3[c3 > 200] = np.nan\n",
    "v_inf[v_inf > 60] = np.nan"
   ]
  },
  {
   "cell_type": "code",
   "execution_count": null,
   "metadata": {},
   "outputs": [],
   "source": [
    "plt.figure(figsize=(12, 8), dpi=300)\n",
    "\n",
    "t = [e.mjd for e in epochs]\n",
    "\n",
    "CS = plt.contour(t, tofs, c3.T, levels=10, colors=\"blue\", linewidths=0.5)\n",
    "plt.clabel(CS, CS.levels, inline=True)\n",
    "\n",
    "CS = plt.contour(t, tofs, v_inf.T, levels=10, colors=\"red\", linewidths=0.5)\n",
    "plt.clabel(CS, CS.levels, inline=True)\n",
    "\n",
    "# Dummy points for labels\n",
    "plt.plot(t[0], tofs[0], lw=0.5, color=\"b\", label=\"C3 (km2/s2)\")\n",
    "plt.plot(t[0], tofs[0], lw=0.5, color=\"r\", label=\"v_inf (km/s)\")\n",
    "\n",
    "plt.legend(loc=4)\n",
    "plt.title(name)\n",
    "plt.xlabel(\"Arrival Date (MJD)\")\n",
    "plt.ylabel(\"TOF (days)\")"
   ]
  },
  {
   "cell_type": "code",
   "execution_count": null,
   "metadata": {},
   "outputs": [],
   "source": [
    "idx = np.unravel_index(np.nanargmin(c3), c3.shape)\n",
    "best = results[idx]\n",
    "\n",
    "print(f\"Best trajectory: arrival {epochs[idx[0]].mjd} MJD C3={best[0]} km2/s2, v_inf={best[1]} km/s, tof={tofs[idx[1]]} days\")"
   ]
  }
 ],
 "metadata": {
  "kernelspec": {
   "display_name": "venv",
   "language": "python",
   "name": "python3"
  },
  "language_info": {
   "codemirror_mode": {
    "name": "ipython",
    "version": 3
   },
   "file_extension": ".py",
   "mimetype": "text/x-python",
   "name": "python",
   "nbconvert_exporter": "python",
   "pygments_lexer": "ipython3",
   "version": "3.10.11"
  }
 },
 "nbformat": 4,
 "nbformat_minor": 2
}
